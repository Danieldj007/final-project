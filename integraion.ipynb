{
  "nbformat": 4,
  "nbformat_minor": 0,
  "metadata": {
    "colab": {
      "name": "Untitled3.ipynb",
      "provenance": [],
      "authorship_tag": "ABX9TyPk8ycSVITDa3vmKri8e/9T",
      "include_colab_link": true
    },
    "kernelspec": {
      "name": "python3",
      "display_name": "Python 3"
    }
  },
  "cells": [
    {
      "cell_type": "markdown",
      "metadata": {
        "id": "view-in-github",
        "colab_type": "text"
      },
      "source": [
        "<a href=\"https://colab.research.google.com/github/Samson-Antony/final-project/blob/master/integraion.ipynb\" target=\"_parent\"><img src=\"https://colab.research.google.com/assets/colab-badge.svg\" alt=\"Open In Colab\"/></a>"
      ]
    },
    {
      "cell_type": "code",
      "metadata": {
        "id": "HbpW4lRVPk0B",
        "colab_type": "code",
        "colab": {}
      },
      "source": [
        ""
      ],
      "execution_count": 0,
      "outputs": []
    },
    {
      "cell_type": "code",
      "metadata": {
        "id": "isKhNzNiMIN0",
        "colab_type": "code",
        "colab": {}
      },
      "source": [
        "from google.colab import files\n",
        "uploaded = files.upload()"
      ],
      "execution_count": 0,
      "outputs": []
    },
    {
      "cell_type": "code",
      "metadata": {
        "id": "cq9RDz7UNyIB",
        "colab_type": "code",
        "colab": {}
      },
      "source": [
        "from google.colab import files\n",
        "uploaded = files.upload()"
      ],
      "execution_count": 0,
      "outputs": []
    },
    {
      "cell_type": "code",
      "metadata": {
        "id": "V7DVEciAN0f_",
        "colab_type": "code",
        "colab": {}
      },
      "source": [
        "# import pandas library \n",
        "import pandas as pd \n",
        "  \n",
        "# Get the data \n",
        "# column_names = ['user_id', 'item_id', 'rating', 'timestamp'] \n",
        "  \n",
        "# path = 'https://media.geeksforgeeks.org/wp-content/uploads/file.tsv'\n",
        "  \n",
        "# df = pd.read_csv(path, sep='\\t', names=column_names)\n",
        "\n",
        "df =  pd.read_csv(\"main file77.csv\")\n",
        "  \n",
        "# Check the head of the data \n",
        "df.head() "
      ],
      "execution_count": 0,
      "outputs": []
    },
    {
      "cell_type": "code",
      "metadata": {
        "id": "j43fz-OVN0pU",
        "colab_type": "code",
        "colab": {}
      },
      "source": [
        "movie_titles = pd.read_csv('details11.csv') \n",
        "movie_titles.head() "
      ],
      "execution_count": 0,
      "outputs": []
    },
    {
      "cell_type": "code",
      "metadata": {
        "id": "eS-Qdj4oN0r0",
        "colab_type": "code",
        "colab": {}
      },
      "source": [
        "data = pd.merge(df, movie_titles, on='Item_id') \n",
        "data.head() \n"
      ],
      "execution_count": 0,
      "outputs": []
    },
    {
      "cell_type": "code",
      "metadata": {
        "id": "p73p3fOLN0ul",
        "colab_type": "code",
        "colab": {}
      },
      "source": [
        "data.groupby('Course')['rating'].mean().sort_values(ascending=False).head()"
      ],
      "execution_count": 0,
      "outputs": []
    },
    {
      "cell_type": "code",
      "metadata": {
        "id": "znp_0nc-N0x8",
        "colab_type": "code",
        "colab": {}
      },
      "source": [
        "ratings = pd.DataFrame(data.groupby('Course')['rating'].mean())  \n",
        "  \n",
        "ratings['num of ratings'] = pd.DataFrame(data.groupby('Course')['rating'].count()) \n",
        "  \n",
        "ratings.head() "
      ],
      "execution_count": 0,
      "outputs": []
    },
    {
      "cell_type": "code",
      "metadata": {
        "id": "CTsGQk1oOMnq",
        "colab_type": "code",
        "colab": {}
      },
      "source": [
        "import matplotlib.pyplot as plt \n",
        "import seaborn as sns \n",
        "  \n",
        "sns.set_style('dark') \n",
        "%matplotlib inline "
      ],
      "execution_count": 0,
      "outputs": []
    },
    {
      "cell_type": "code",
      "metadata": {
        "id": "JGlq77rYORre",
        "colab_type": "code",
        "colab": {}
      },
      "source": [
        "# plot graph of 'num of ratings column' \n",
        "plt.figure(figsize =(10, 4)) \n",
        "  \n",
        "ratings['num of ratings'].hist(bins = 70) "
      ],
      "execution_count": 0,
      "outputs": []
    },
    {
      "cell_type": "code",
      "metadata": {
        "id": "En0qtRqFORue",
        "colab_type": "code",
        "colab": {}
      },
      "source": [
        "# plot graph of 'ratings' column \n",
        "plt.figure(figsize =(10, 4)) \n",
        "  \n",
        "ratings['rating'].hist(bins = 70) "
      ],
      "execution_count": 0,
      "outputs": []
    },
    {
      "cell_type": "code",
      "metadata": {
        "id": "JfBctSxSOcUb",
        "colab_type": "code",
        "colab": {}
      },
      "source": [
        "# Sorting values according to  \n",
        "# the 'num of rating column' \n",
        "moviemat = data.pivot_table(index ='userid', \n",
        "              columns ='Course', values ='rating') \n",
        "  \n",
        "moviemat.head() \n",
        "  \n",
        "ratings.sort_values('num of ratings', ascending = False).head(50) "
      ],
      "execution_count": 0,
      "outputs": []
    },
    {
      "cell_type": "code",
      "metadata": {
        "id": "e6O18zShOh5p",
        "colab_type": "code",
        "colab": {}
      },
      "source": [
        "# analysing correlation with similar movies \n",
        "Civil_Engineering_ratings = moviemat['B.Sc. Zoology'] \n",
        "\n",
        "  \n",
        "Civil_Engineering_ratings.head() "
      ],
      "execution_count": 0,
      "outputs": []
    },
    {
      "cell_type": "code",
      "metadata": {
        "id": "q4J-hRVWOM-U",
        "colab_type": "code",
        "colab": {}
      },
      "source": [
        "# analysing correlation with similar movies \n",
        "similar_to_starwars = moviemat.corrwith(Civil_Engineering_ratings) \n",
        "# similar_to_liarliar = moviemat.corrwith(liarliar_user_ratings) \n",
        "  \n",
        "corr_starwars = pd.DataFrame(similar_to_starwars, columns =['Correlation']) \n",
        "corr_starwars.dropna(inplace = True) \n",
        "  \n",
        "corr_starwars.head() "
      ],
      "execution_count": 0,
      "outputs": []
    },
    {
      "cell_type": "code",
      "metadata": {
        "id": "SJyGy5KIOreg",
        "colab_type": "code",
        "colab": {}
      },
      "source": [
        "# Similar movies like starwars corr_starwars.sort_values('Correlation', ascending = False).head(10) \n",
        "corr_starwars = corr_starwars.join(ratings['num of ratings']) \n",
        "  \n",
        "corr_starwars.head() \n",
        "  \n",
        "corr_starwars[corr_starwars['num of ratings']>10].sort_values('Correlation', ascending = False).head() "
      ],
      "execution_count": 0,
      "outputs": []
    },
    {
      "cell_type": "code",
      "metadata": {
        "id": "1u5nDhmaOrrA",
        "colab_type": "code",
        "colab": {}
      },
      "source": [
        "# ----------------------------- Naive BAyes-----------------------------"
      ],
      "execution_count": 0,
      "outputs": []
    },
    {
      "cell_type": "code",
      "metadata": {
        "id": "ZfjRVdfKOrwZ",
        "colab_type": "code",
        "colab": {}
      },
      "source": [
        "from google.colab import files\n",
        "uploaded = files.upload()"
      ],
      "execution_count": 0,
      "outputs": []
    },
    {
      "cell_type": "code",
      "metadata": {
        "id": "3DehEB6iOw5u",
        "colab_type": "code",
        "colab": {}
      },
      "source": [
        "import pandas as pd "
      ],
      "execution_count": 0,
      "outputs": []
    },
    {
      "cell_type": "code",
      "metadata": {
        "id": "0Zds4oiiOxHn",
        "colab_type": "code",
        "colab": {}
      },
      "source": [
        "data = pd.read_csv(\"Book2.csv\")"
      ],
      "execution_count": 0,
      "outputs": []
    },
    {
      "cell_type": "code",
      "metadata": {
        "id": "MkmopHqzOxKA",
        "colab_type": "code",
        "colab": {}
      },
      "source": [
        "X=data.iloc[:,:-1]"
      ],
      "execution_count": 0,
      "outputs": []
    },
    {
      "cell_type": "code",
      "metadata": {
        "id": "R1lVBSoUPKeB",
        "colab_type": "code",
        "colab": {}
      },
      "source": [
        "y= data.iloc[:,-1]"
      ],
      "execution_count": 0,
      "outputs": []
    },
    {
      "cell_type": "code",
      "metadata": {
        "id": "NVjhCBFVPKkb",
        "colab_type": "code",
        "colab": {}
      },
      "source": [
        "from sklearn.model_selection import train_test_split \n",
        "\n",
        "X_train, X_test, y_train, y_test = train_test_split(X, y, test_size=0.4, random_state=2) "
      ],
      "execution_count": 0,
      "outputs": []
    },
    {
      "cell_type": "code",
      "metadata": {
        "id": "95qP2moFPKvG",
        "colab_type": "code",
        "colab": {}
      },
      "source": [
        "from sklearn.naive_bayes import GaussianNB \n",
        "\n",
        "gnb = GaussianNB() \n",
        "gnb.fit(X_train, y_train) "
      ],
      "execution_count": 0,
      "outputs": []
    },
    {
      "cell_type": "code",
      "metadata": {
        "id": "CBEeEeSrPKhz",
        "colab_type": "code",
        "colab": {}
      },
      "source": [
        "y_pred = gnb.predict(X_test) "
      ],
      "execution_count": 0,
      "outputs": []
    },
    {
      "cell_type": "code",
      "metadata": {
        "id": "3ad8arjPOxRb",
        "colab_type": "code",
        "colab": {}
      },
      "source": [
        "from sklearn import metrics \n",
        "\n",
        "print(\"Gaussian Naive Bayes model accuracy(in %):\", metrics.accuracy_score(y_test, y_pred)*100)"
      ],
      "execution_count": 0,
      "outputs": []
    },
    {
      "cell_type": "code",
      "metadata": {
        "id": "pJj07aAbPab_",
        "colab_type": "code",
        "colab": {}
      },
      "source": [
        "y_pred = gnb.predict([(65,75,95,98,99,89,0,0,0,0)])"
      ],
      "execution_count": 0,
      "outputs": []
    },
    {
      "cell_type": "code",
      "metadata": {
        "id": "7u0iv_ikOxNs",
        "colab_type": "code",
        "colab": {}
      },
      "source": [
        "y_pred"
      ],
      "execution_count": 0,
      "outputs": []
    }
  ]
}